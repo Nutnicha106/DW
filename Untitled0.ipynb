{
  "nbformat": 4,
  "nbformat_minor": 0,
  "metadata": {
    "colab": {
      "name": "Untitled0.ipynb",
      "provenance": [],
      "include_colab_link": true
    },
    "kernelspec": {
      "name": "python3",
      "display_name": "Python 3"
    }
  },
  "cells": [
    {
      "cell_type": "markdown",
      "metadata": {
        "id": "view-in-github",
        "colab_type": "text"
      },
      "source": [
        "<a href=\"https://colab.research.google.com/github/Nutnicha106/DW/blob/master/Untitled0.ipynb\" target=\"_parent\"><img src=\"https://colab.research.google.com/assets/colab-badge.svg\" alt=\"Open In Colab\"/></a>"
      ]
    },
    {
      "cell_type": "code",
      "metadata": {
        "id": "k6x60_2hjHLF",
        "colab_type": "code",
        "colab": {
          "base_uri": "https://localhost:8080/",
          "height": 34
        },
        "outputId": "8d2a98a8-8466-4b96-9401-fda28add485c"
      },
      "source": [
        "print(\"helloworld\")"
      ],
      "execution_count": 1,
      "outputs": [
        {
          "output_type": "stream",
          "text": [
            "helloworld\n"
          ],
          "name": "stdout"
        }
      ]
    },
    {
      "cell_type": "code",
      "metadata": {
        "id": "k7H9XbCZjNKc",
        "colab_type": "code",
        "colab": {}
      },
      "source": [
        ""
      ],
      "execution_count": 0,
      "outputs": []
    },
    {
      "cell_type": "markdown",
      "metadata": {
        "id": "HD2H3mmzjT8W",
        "colab_type": "text"
      },
      "source": [
        "How to declare variable in python"
      ]
    },
    {
      "cell_type": "code",
      "metadata": {
        "id": "OmgGWuL7jh1k",
        "colab_type": "code",
        "colab": {
          "base_uri": "https://localhost:8080/",
          "height": 34
        },
        "outputId": "c4df9940-f8e8-4a7a-a258-ab63804f2ee8"
      },
      "source": [
        "score = 100\n",
        "name = \"nutnicha\"\n",
        "print(\"Name is \" + name + \" score is \" + str(score)) "
      ],
      "execution_count": 4,
      "outputs": [
        {
          "output_type": "stream",
          "text": [
            "Name is nutnicha score is 100\n"
          ],
          "name": "stdout"
        }
      ]
    },
    {
      "cell_type": "code",
      "metadata": {
        "id": "GNSp0Aw2j85L",
        "colab_type": "code",
        "colab": {}
      },
      "source": [
        ""
      ],
      "execution_count": 0,
      "outputs": []
    },
    {
      "cell_type": "markdown",
      "metadata": {
        "id": "RzhFWVK2m7Cj",
        "colab_type": "text"
      },
      "source": [
        "#List"
      ]
    },
    {
      "cell_type": "code",
      "metadata": {
        "id": "3dnZOxZRm-5o",
        "colab_type": "code",
        "colab": {
          "base_uri": "https://localhost:8080/",
          "height": 34
        },
        "outputId": "3ddbd2e2-7a36-43b0-e3c8-fe73a518d437"
      },
      "source": [
        "mylist = []\n",
        "mylist.append(\"nutnicha\")\n",
        "mylist.append(200)\n",
        "mylist"
      ],
      "execution_count": 8,
      "outputs": [
        {
          "output_type": "execute_result",
          "data": {
            "text/plain": [
              "['nutnicha', 200]"
            ]
          },
          "metadata": {
            "tags": []
          },
          "execution_count": 8
        }
      ]
    },
    {
      "cell_type": "code",
      "metadata": {
        "id": "H-ZXpHPjnTfv",
        "colab_type": "code",
        "colab": {}
      },
      "source": [
        ""
      ],
      "execution_count": 0,
      "outputs": []
    },
    {
      "cell_type": "markdown",
      "metadata": {
        "id": "3PhO7yphn7qZ",
        "colab_type": "text"
      },
      "source": [
        "#if-else python\n",
        "##How to use"
      ]
    },
    {
      "cell_type": "code",
      "metadata": {
        "id": "CxnajPsXoN4o",
        "colab_type": "code",
        "colab": {
          "base_uri": "https://localhost:8080/",
          "height": 34
        },
        "outputId": "9dee0dda-a62b-46de-c7a9-57ad8c14f08e"
      },
      "source": [
        "if mylist[1] > 100 :\n",
        "  name = mylist[0]\n",
        "  score = mylist[1]\n",
        "  print(name + \" \" + str(score))\n",
        "elif mylist[1] > 200 :\n",
        "  print(\"very pass\")\n",
        "else :\n",
        "  print(\"super pass\")\n",
        "  "
      ],
      "execution_count": 9,
      "outputs": [
        {
          "output_type": "stream",
          "text": [
            "nutnicha 200\n"
          ],
          "name": "stdout"
        }
      ]
    },
    {
      "cell_type": "code",
      "metadata": {
        "id": "acGrOHT4pHou",
        "colab_type": "code",
        "colab": {}
      },
      "source": [
        ""
      ],
      "execution_count": 0,
      "outputs": []
    },
    {
      "cell_type": "markdown",
      "metadata": {
        "id": "Uw-VeacNqeVe",
        "colab_type": "text"
      },
      "source": [
        "#For loop in python.\n",
        "## how to use"
      ]
    },
    {
      "cell_type": "code",
      "metadata": {
        "id": "2mIGJzdLqqW1",
        "colab_type": "code",
        "colab": {}
      },
      "source": [
        "summation = []\n",
        "a= 0\n",
        "for i in range(0,10):\n",
        "  a=a+5\n",
        "  summation.append(a) "
      ],
      "execution_count": 0,
      "outputs": []
    },
    {
      "cell_type": "code",
      "metadata": {
        "id": "2CnCN0WprIMR",
        "colab_type": "code",
        "colab": {}
      },
      "source": [
        ""
      ],
      "execution_count": 0,
      "outputs": []
    }
  ]
}